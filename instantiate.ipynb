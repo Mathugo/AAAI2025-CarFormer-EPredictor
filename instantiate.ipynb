{
 "cells": [
  {
   "cell_type": "code",
   "execution_count": null,
   "metadata": {},
   "outputs": [],
   "source": [
    "from paper_code.carformer.pretraining import CarFormerForPretraining\n",
    "from paper_code.carformer.config import CarFormerConfig\n",
    "from paper_code.epredictor.model import EPredictor\n",
    "from paper_code.epredictor import model\n",
    "from paper_code.epredictor.base import EPredictorConfig"
   ]
  },
  {
   "cell_type": "code",
   "execution_count": null,
   "metadata": {},
   "outputs": [],
   "source": [
    "config = CarFormerConfig()\n",
    "model = CarFormerForPretraining(config)\n",
    "model"
   ]
  },
  {
   "cell_type": "code",
   "execution_count": null,
   "metadata": {},
   "outputs": [],
   "source": [
    "model.save_pretrained('carformer_test')"
   ]
  },
  {
   "cell_type": "code",
   "execution_count": null,
   "metadata": {},
   "outputs": [],
   "source": [
    "config = EPredictorConfig('carformer_test',\n",
    "                         alpha=1,\n",
    "                         min_context=30,\n",
    "                         label_mapping={'ep1': 0},\n",
    "                         )\n",
    "model = EPredictor(config)\n",
    "model"
   ]
  },
  {
   "cell_type": "code",
   "execution_count": null,
   "metadata": {},
   "outputs": [],
   "source": [
    "model.save_pretrained('epredictor_test', None)"
   ]
  }
 ],
 "metadata": {
  "language_info": {
   "name": "python"
  }
 },
 "nbformat": 4,
 "nbformat_minor": 2
}
